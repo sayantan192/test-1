{
  "nbformat": 4,
  "nbformat_minor": 0,
  "metadata": {
    "colab": {
      "provenance": []
    },
    "kernelspec": {
      "name": "python3",
      "display_name": "Python 3"
    },
    "language_info": {
      "name": "python"
    }
  },
  "cells": [
    {
      "cell_type": "code",
      "execution_count": null,
      "metadata": {
        "id": "D-4Ff_tPJymo"
      },
      "outputs": [],
      "source": [
        "# syntax of if statement\n",
        "# if test expression\n",
        "    # statement"
      ]
    },
    {
      "cell_type": "code",
      "source": [
        "name = 'sayantan'     #repeating the names\n",
        "for i in range(7):\n",
        "  print(name)"
      ],
      "metadata": {
        "colab": {
          "base_uri": "https://localhost:8080/"
        },
        "id": "_RDGJMlZ48au",
        "outputId": "3602c089-4af3-4084-db75-8d263ac11d2c"
      },
      "execution_count": null,
      "outputs": [
        {
          "output_type": "stream",
          "name": "stdout",
          "text": [
            "sayantan\n",
            "sayantan\n",
            "sayantan\n",
            "sayantan\n",
            "sayantan\n",
            "sayantan\n",
            "sayantan\n"
          ]
        }
      ]
    },
    {
      "cell_type": "code",
      "source": [
        "# if the number is positive print a message\n",
        "number = 12\n",
        "if number>5:\n",
        "  print(number, 'is a positive number')\n",
        "if number<0:\n",
        "  print (number, 'is a negative')"
      ],
      "metadata": {
        "colab": {
          "base_uri": "https://localhost:8080/"
        },
        "id": "z7Plf02MOgz3",
        "outputId": "3e8e76d9-7fd4-4bdf-fe23-a54477c0f004"
      },
      "execution_count": null,
      "outputs": [
        {
          "output_type": "stream",
          "name": "stdout",
          "text": [
            "12 is a positive number\n"
          ]
        }
      ]
    },
    {
      "cell_type": "code",
      "source": [
        "number = -64\n",
        "if number>5:\n",
        "  print(number, 'is a positive number')\n",
        "if number<0:\n",
        "  print (number, 'is a negative')"
      ],
      "metadata": {
        "colab": {
          "base_uri": "https://localhost:8080/"
        },
        "id": "6jFm5xd5STOJ",
        "outputId": "180a93b3-cc35-4662-aeaa-f4be797e758d"
      },
      "execution_count": null,
      "outputs": [
        {
          "output_type": "stream",
          "name": "stdout",
          "text": [
            "-64 is a negative\n"
          ]
        }
      ]
    },
    {
      "cell_type": "code",
      "source": [
        "#syntax for if else loop (loop means this if, elif and else)\n",
        "# if test expression\n",
        "    # statements\n",
        "# else:\n",
        "   #statements"
      ],
      "metadata": {
        "id": "UOGVLMHHSfXY"
      },
      "execution_count": null,
      "outputs": []
    },
    {
      "cell_type": "code",
      "source": [
        "# programme to check wheather a number is positive or zero\n",
        "number=10\n",
        "if number >=0:\n",
        "  print (number, 'is a positive integer')\n",
        "else:\n",
        "  print ('is not a positive integer')\n"
      ],
      "metadata": {
        "id": "p7X3daqjS_VJ",
        "colab": {
          "base_uri": "https://localhost:8080/"
        },
        "outputId": "aa77a807-cb71-40bd-8e59-1a9a02b48aa5"
      },
      "execution_count": null,
      "outputs": [
        {
          "output_type": "stream",
          "name": "stdout",
          "text": [
            "10 is a positive integer\n"
          ]
        }
      ]
    },
    {
      "cell_type": "code",
      "source": [
        "# programme wheather a a number is +,- or 0 #(remeber colons if elif else and after that print has some gap, carefull on == )\n",
        "number=14\n",
        "if number>0:\n",
        "  print (number, 'is a positive integer')\n",
        "elif number==0:\n",
        "  print (number,'is zero')\n",
        "else:\n",
        "  print(number,'is a negative number')"
      ],
      "metadata": {
        "colab": {
          "base_uri": "https://localhost:8080/"
        },
        "id": "L9P9mH4E5Bhs",
        "outputId": "730c4958-ec48-411c-9dc8-3a292f84dadc"
      },
      "execution_count": null,
      "outputs": [
        {
          "output_type": "stream",
          "name": "stdout",
          "text": [
            "14 is a positive integer\n"
          ]
        }
      ]
    },
    {
      "cell_type": "code",
      "source": [
        "x=12              #simple arithmatics\n",
        "y=21\n",
        "print(x+y)\n",
        "print(x-y)\n",
        "print(x*y)\n",
        "print(x/y)"
      ],
      "metadata": {
        "colab": {
          "base_uri": "https://localhost:8080/"
        },
        "id": "pI18Iu7ZPu1B",
        "outputId": "233aeffa-e254-491c-f798-beb55d37e403"
      },
      "execution_count": null,
      "outputs": [
        {
          "output_type": "stream",
          "name": "stdout",
          "text": [
            "33\n",
            "-9\n",
            "252\n",
            "0.5714285714285714\n"
          ]
        }
      ]
    },
    {
      "cell_type": "code",
      "source": [
        "celsius= float(35)                                                  #if want to use(°) then use float (celsius to fahrenheit convert)\n",
        "fahrenheit= (celsius*1.8)+32\n",
        "print (f\"{celsius}° celsius is equal to {fahrenheit}° fahrenheit\")"
      ],
      "metadata": {
        "id": "erm35Fp6C-sQ",
        "colab": {
          "base_uri": "https://localhost:8080/"
        },
        "outputId": "12fbf0e4-fce0-4977-d35a-804261477212"
      },
      "execution_count": null,
      "outputs": [
        {
          "output_type": "stream",
          "name": "stdout",
          "text": [
            "35.0° celsius is equal to 95.0° fahrenheit\n"
          ]
        }
      ]
    },
    {
      "cell_type": "code",
      "source": [
        "import numpy as np\n",
        "p= np.array([[1,2,3],[7,2,5]]) # import numpy and p & q defined with ([[x]])\n",
        "                               # always p & q need same number of digits\n",
        "q= np.array([[3,4,5],[4,5,7]])\n",
        "print(p)\n",
        "print(q)\n"
      ],
      "metadata": {
        "colab": {
          "base_uri": "https://localhost:8080/"
        },
        "id": "Faqvcy6UIT78",
        "outputId": "5c30ba9f-72df-4e9e-d559-2bb52f1b97f9"
      },
      "execution_count": null,
      "outputs": [
        {
          "output_type": "stream",
          "name": "stdout",
          "text": [
            "[[1 2 3]\n",
            " [7 2 5]]\n",
            "[[3 4 5]\n",
            " [4 5 7]]\n"
          ]
        }
      ]
    },
    {
      "cell_type": "code",
      "source": [
        "print(np.subtract(p,q))"
      ],
      "metadata": {
        "colab": {
          "base_uri": "https://localhost:8080/"
        },
        "id": "ErB5oEwzKI7y",
        "outputId": "ba4e6234-0456-4dd0-85bb-2105f2b069d7"
      },
      "execution_count": null,
      "outputs": [
        {
          "output_type": "stream",
          "name": "stdout",
          "text": [
            "[[-2 -2 -2]\n",
            " [ 3 -3 -2]]\n"
          ]
        }
      ]
    },
    {
      "cell_type": "code",
      "source": [
        "number=-100\n",
        "if number<0:\n",
        "  print (number, 'it is negative integer')\n",
        "elif number ==0:\n",
        "  print (number,  'it is 0')\n",
        "else:\n",
        "  print (number, 'positive integer')"
      ],
      "metadata": {
        "colab": {
          "base_uri": "https://localhost:8080/"
        },
        "id": "bzmpY9NWLhLB",
        "outputId": "71383850-4434-439d-f40f-dd25d2e1429e"
      },
      "execution_count": null,
      "outputs": [
        {
          "output_type": "stream",
          "name": "stdout",
          "text": [
            "-100 it is negative integer\n"
          ]
        }
      ]
    },
    {
      "cell_type": "code",
      "source": [
        "#syntax for loop                      #s=o and for i in the list\n",
        "#for variable in sequence\n",
        "List=[1,2,12,14,17,19,29]\n",
        "s=0\n",
        "for i in List:\n",
        "  s=s+i\n",
        "print ('sum of all items of the List is',s)"
      ],
      "metadata": {
        "colab": {
          "base_uri": "https://localhost:8080/"
        },
        "id": "Zz2m1hasnsH9",
        "outputId": "590ae559-47d1-465f-ad57-729b593c2c2c"
      },
      "execution_count": null,
      "outputs": [
        {
          "output_type": "stream",
          "name": "stdout",
          "text": [
            "sum of all items of the List is 94\n"
          ]
        }
      ]
    },
    {
      "cell_type": "code",
      "source": [
        "a=range(10)\n",
        "print(a)"
      ],
      "metadata": {
        "colab": {
          "base_uri": "https://localhost:8080/"
        },
        "id": "Ym4K2nwUsecX",
        "outputId": "55c82243-9a11-41b7-faa0-142fc612c489"
      },
      "execution_count": null,
      "outputs": [
        {
          "output_type": "stream",
          "name": "stdout",
          "text": [
            "range(0, 10)\n"
          ]
        }
      ]
    },
    {
      "cell_type": "code",
      "source": [
        "del list                 #if the list is collable (creating back to back numbers)\n",
        "print (list(range(20)))"
      ],
      "metadata": {
        "colab": {
          "base_uri": "https://localhost:8080/"
        },
        "id": "4I4E_zAWs11l",
        "outputId": "48921781-adb4-4cff-ed31-782f064ade7f"
      },
      "execution_count": null,
      "outputs": [
        {
          "output_type": "stream",
          "name": "stdout",
          "text": [
            "[0, 1, 2, 3, 4, 5, 6, 7, 8, 9, 10, 11, 12, 13, 14, 15, 16, 17, 18, 19]\n"
          ]
        }
      ]
    },
    {
      "cell_type": "code",
      "source": [
        "print (list(range(1,20,3))) # (number from 1 to 20, interval of 3)"
      ],
      "metadata": {
        "colab": {
          "base_uri": "https://localhost:8080/"
        },
        "id": "eyNNML_UvKB4",
        "outputId": "23f312d2-439b-4ba2-8f4b-5c15f319b9bb"
      },
      "execution_count": null,
      "outputs": [
        {
          "output_type": "stream",
          "name": "stdout",
          "text": [
            "[1, 4, 7, 10, 13, 16, 19]\n"
          ]
        }
      ]
    },
    {
      "cell_type": "code",
      "source": [
        "mark = int(input(\"Enter the student's mark\"))  #students marks grading\n",
        "\n",
        "if mark >= 90 and mark <= 100:\n",
        "    print(\"Grade A\")\n",
        "elif mark >= 80 and mark < 90:\n",
        "    print(\"Grade B\")\n",
        "elif mark >= 70 and mark < 80:\n",
        "    print(\"Grade C\")\n",
        "elif mark >= 60 and mark < 70:\n",
        "    print(\"Grade D\")\n",
        "else:\n",
        "    print(\"Grade F\")"
      ],
      "metadata": {
        "colab": {
          "base_uri": "https://localhost:8080/"
        },
        "id": "aHR1hAzuyzEP",
        "outputId": "06f07088-dd92-4762-8c7b-9961b604e06a"
      },
      "execution_count": null,
      "outputs": [
        {
          "output_type": "stream",
          "name": "stdout",
          "text": [
            "Enter the student's mark12\n",
            "Grade F\n"
          ]
        }
      ]
    },
    {
      "cell_type": "code",
      "source": [
        "mark=int(input('enter the number'))\n",
        "if mark >=90 and mark <100:\n",
        "    print ('grade A')\n",
        "elif mark >=80 and mark <90:\n",
        "    print ('grade B')\n",
        "elif mark >=70 and mark <80:\n",
        "    print ('grade C')\n",
        "else:\n",
        "    pass\n",
        "    print ('grade D')"
      ],
      "metadata": {
        "colab": {
          "base_uri": "https://localhost:8080/"
        },
        "id": "0ByY8jlKlGgF",
        "outputId": "3a6f8de8-03b8-4703-f476-b873248c1ec3"
      },
      "execution_count": null,
      "outputs": [
        {
          "output_type": "stream",
          "name": "stdout",
          "text": [
            "enter the number12\n",
            "grade D\n"
          ]
        }
      ]
    },
    {
      "cell_type": "code",
      "source": [
        "import numpy as np                           # matrix arithmatics\n",
        "p=np.array([[1,3,5,6],[2,6,7,8]])\n",
        "q=np.array([[2,4,6,7],[5,7,8,9]])\n",
        "print(np.add(p,q))\n",
        "print(np.subtract(p,q))\n",
        "print(np.multiply(p,q))\n",
        "print(np.divide(p,q))"
      ],
      "metadata": {
        "colab": {
          "base_uri": "https://localhost:8080/"
        },
        "id": "__hjEP5S6uwY",
        "outputId": "ae2975a8-c51e-4006-a9bf-7df4c72f2f5b"
      },
      "execution_count": null,
      "outputs": [
        {
          "output_type": "stream",
          "name": "stdout",
          "text": [
            "[[ 3  7 11 13]\n",
            " [ 7 13 15 17]]\n",
            "[[-1 -1 -1 -1]\n",
            " [-3 -1 -1 -1]]\n",
            "[[ 2 12 30 42]\n",
            " [10 42 56 72]]\n",
            "[[0.5        0.75       0.83333333 0.85714286]\n",
            " [0.4        0.85714286 0.875      0.88888889]]\n"
          ]
        }
      ]
    },
    {
      "cell_type": "code",
      "source": [
        "p=np.array ([[2,5,1],[6,7,9],[1,2,3]])        #dot products of matrix\n",
        "q=np.array ([[4,5,2],[7,9,8],[5,7,9]])\n",
        "print(np.dot(p,q))"
      ],
      "metadata": {
        "colab": {
          "base_uri": "https://localhost:8080/"
        },
        "id": "3WxMuvxp_JGP",
        "outputId": "c7a14c96-c579-4106-e18f-dc9842ced127"
      },
      "execution_count": null,
      "outputs": [
        {
          "output_type": "stream",
          "name": "stdout",
          "text": [
            "[[ 48  62  53]\n",
            " [118 156 149]\n",
            " [ 33  44  45]]\n"
          ]
        }
      ]
    },
    {
      "cell_type": "code",
      "source": [
        "mark= int(input('enter the mark'))\n",
        "if mark >=90 and mark <100:\n",
        "    print ('grade A')\n",
        "elif mark >=80 and mark <90:\n",
        "    print ('grade B')\n",
        "elif mark >=70 and mark <80:\n",
        "    print ('grade C')\n",
        "else:\n",
        "    print ('grade D')"
      ],
      "metadata": {
        "colab": {
          "base_uri": "https://localhost:8080/"
        },
        "id": "4G2MffAznfj6",
        "outputId": "1083128b-4918-4021-8ceb-4b60a4b9edd6"
      },
      "execution_count": null,
      "outputs": [
        {
          "output_type": "stream",
          "name": "stdout",
          "text": [
            "enter the mark45\n",
            "grade D\n"
          ]
        }
      ]
    },
    {
      "cell_type": "code",
      "source": [
        "a=[[1,4,5],                       #transpose of matrix\n",
        "   [1,6,8],\n",
        "   [3,9,8]]\n",
        "res= [[0,0,0],\n",
        "      [0,0,0],\n",
        "      [0,0,0]]\n",
        "for x in range (len(a)):\n",
        "  print(a[x])\n",
        "pass\n",
        "for y in range (len(a[0])):\n",
        "  res[y][x]=a[x][y]\n",
        "print ('after transpose')"
      ],
      "metadata": {
        "colab": {
          "base_uri": "https://localhost:8080/"
        },
        "id": "jepz9K0xpIuJ",
        "outputId": "5546b107-4811-425b-a093-b6f1283a5707"
      },
      "execution_count": null,
      "outputs": [
        {
          "output_type": "stream",
          "name": "stdout",
          "text": [
            "[1, 4, 5]\n",
            "[1, 6, 8]\n",
            "[3, 9, 8]\n",
            "after transpose\n"
          ]
        }
      ]
    },
    {
      "cell_type": "code",
      "source": [
        "matrix = []                                                                     #matrix transpose with user input\n",
        "for i in range(3):\n",
        "    numbers = input(f\"Enter 3 integers separated by spaces for row {i+1}: \")\n",
        "    row = [int(num) for num in numbers.split()]\n",
        "    matrix.append(row)\n",
        "print(\"\\nMatrix Transpose:\")\n",
        "for col in range(3):\n",
        "    for row in range(3):\n",
        "        print(matrix[row][col], end=\" \")\n",
        "print()"
      ],
      "metadata": {
        "colab": {
          "base_uri": "https://localhost:8080/"
        },
        "id": "LnL-5ZOys51U",
        "outputId": "14747089-fa53-4ad6-929b-98aeb7aa7509"
      },
      "execution_count": null,
      "outputs": [
        {
          "output_type": "stream",
          "name": "stdout",
          "text": [
            "Enter 3 integers separated by spaces for row 1: 1 4 8\n",
            "Enter 3 integers separated by spaces for row 2: 3 4 6\n",
            "Enter 3 integers separated by spaces for row 3: 2 5 7\n",
            "\n",
            "Matrix Transpose:\n",
            "1 3 2 4 4 5 8 6 7 \n"
          ]
        }
      ]
    },
    {
      "cell_type": "code",
      "source": [
        "import numpy as np\n",
        "matrix = np.array([\n",
        "    [1, 2, 3],\n",
        "    [4, 5, 6],\n",
        "    [7, 8, 9] ])\n",
        "transpose = matrix.T\n",
        "print(\"Original Matrix:\")\n",
        "print(matrix)\n",
        "print(\"\\nTranspose of the matrix:\")\n",
        "print(transpose)"
      ],
      "metadata": {
        "colab": {
          "base_uri": "https://localhost:8080/"
        },
        "id": "N2BLhyTyu2qh",
        "outputId": "a15064cf-79e4-4d01-b3fb-5c0e8b707ed4"
      },
      "execution_count": null,
      "outputs": [
        {
          "output_type": "stream",
          "name": "stdout",
          "text": [
            "Original Matrix:\n",
            "[[1 2 3]\n",
            " [4 5 6]\n",
            " [7 8 9]]\n",
            "\n",
            "Transpose of the matrix:\n",
            "[[1 4 7]\n",
            " [2 5 8]\n",
            " [3 6 9]]\n"
          ]
        }
      ]
    },
    {
      "cell_type": "code",
      "source": [
        "import numpy as np\n",
        "matrix = np.array([[1, 2, 3], [4, 5, 6], [7, 8, 9]])\n",
        "print(\"Transpose of the matrix:\\n\",matrix.T)\n"
      ],
      "metadata": {
        "colab": {
          "base_uri": "https://localhost:8080/"
        },
        "id": "2-afnGE7vdBL",
        "outputId": "b2863f7b-6c98-4e97-8411-b5d1761f6960"
      },
      "execution_count": null,
      "outputs": [
        {
          "output_type": "stream",
          "name": "stdout",
          "text": [
            "Transpose of the matrix:\n",
            " [[1 4 7]\n",
            " [2 5 8]\n",
            " [3 6 9]]\n"
          ]
        }
      ]
    },
    {
      "cell_type": "code",
      "source": [
        "import numpy as np\n",
        "matrix = []\n",
        "for i in range(3):\n",
        "    row = list(map(int, input(f\"Enter 3 numbers for row {i+1}: \").split()))\n",
        "    matrix.append(row)\n",
        "matrix = np.array(matrix)\n",
        "print(\"Original Matrix:\\n\", matrix)\n",
        "print(\"Transpose of the matrix:\\n\",matrix.T)\n"
      ],
      "metadata": {
        "colab": {
          "base_uri": "https://localhost:8080/"
        },
        "id": "KheDX8PVw3by",
        "outputId": "2e714c60-a7e0-4e7d-d3a0-4965ac0f2bb3"
      },
      "execution_count": null,
      "outputs": [
        {
          "output_type": "stream",
          "name": "stdout",
          "text": [
            "Enter 3 numbers for row 1: 1 3 7\n",
            "Enter 3 numbers for row 2: 3 9 8\n",
            "Enter 3 numbers for row 3: 2 7 8 \n",
            "Original Matrix:\n",
            " [[1 3 7]\n",
            " [3 9 8]\n",
            " [2 7 8]]\n",
            "Transpose of the matrix:\n",
            " [[1 3 2]\n",
            " [3 9 7]\n",
            " [7 8 8]]\n"
          ]
        }
      ]
    },
    {
      "cell_type": "code",
      "source": [
        "matrix = np.array([[1, 2, 3], [4, 5, 6]])         #resized the matrix\n",
        "new_matrix = np.resize(matrix, (3, 2))\n",
        "print(new_matrix)"
      ],
      "metadata": {
        "colab": {
          "base_uri": "https://localhost:8080/"
        },
        "id": "pfw3_lslGGfS",
        "outputId": "4cba9b92-f524-42cc-acf7-d30de7e2e965"
      },
      "execution_count": null,
      "outputs": [
        {
          "output_type": "stream",
          "name": "stdout",
          "text": [
            "[[1 2]\n",
            " [3 4]\n",
            " [5 6]]\n"
          ]
        }
      ]
    },
    {
      "cell_type": "code",
      "source": [
        "a=input(\"enter the 1st value of the sum:\")           #sum with user input\n",
        "b=input(\"enter the 2nd value of the sum:\")\n",
        "c=input(\"enter the third value of the sum:\")\n",
        "\n",
        "d=int(a)+int(b)+int(c)\n",
        "print(d)"
      ],
      "metadata": {
        "id": "od70WuYS3X-m",
        "colab": {
          "base_uri": "https://localhost:8080/"
        },
        "outputId": "4dca3a44-3286-49f0-de56-075f569c6596"
      },
      "execution_count": null,
      "outputs": [
        {
          "output_type": "stream",
          "name": "stdout",
          "text": [
            "enter the 1st value of the sum:12\n",
            "enter the 2nd value of the sum:23\n",
            "enter the third value of the sum:12\n",
            "47\n"
          ]
        }
      ]
    }
  ]
}